{
 "cells": [
  {
   "cell_type": "code",
   "execution_count": 3,
   "metadata": {},
   "outputs": [
    {
     "data": {
      "text/plain": [
       "<torch.autograd.grad_mode.set_grad_enabled at 0x208b6e87070>"
      ]
     },
     "execution_count": 3,
     "metadata": {},
     "output_type": "execute_result"
    }
   ],
   "source": [
    "# TESTS\n",
    "import torch\n",
    "import math\n",
    "torch.set_grad_enabled(False)"
   ]
  },
  {
   "cell_type": "code",
   "execution_count": 9,
   "metadata": {},
   "outputs": [],
   "source": [
    "random_tensor = torch.empty((1000, 2)).uniform_(0, 1)\n",
    "#check if in circle (x - center_x)^2 + (y - center_y)^2 < radius^2\n",
    "n = 1000\n",
    "center = 0.5\n",
    "radius = 1 / (2 * math.pi)\n",
    "radius_sq = math.pow(radius, 2)\n",
    "\n",
    "test_tensor = random_tensor.sub(center).pow(2).sum(1)\n",
    "target_tensor = torch.where(test_tensor < radius_sq, 1, 0)"
   ]
  },
  {
   "cell_type": "code",
   "execution_count": 8,
   "metadata": {},
   "outputs": [
    {
     "name": "stdout",
     "output_type": "stream",
     "text": [
      "torch.Size([1000])\n",
      "torch.Size([1000])\n"
     ]
    }
   ],
   "source": [
    "print(test_tensor.shape)\n",
    "print(target_tensor)"
   ]
  },
  {
   "cell_type": "code",
   "execution_count": 10,
   "metadata": {},
   "outputs": [],
   "source": [
    "def generate_data(n, center, radius):\n",
    "    random_tensor = torch.empty((n, 2)).uniform_(0, 1)\n",
    "    radius_sq = math.pow(radius, 2)\n",
    "    \n",
    "    temp_tensor = random_tensor.sub(center).pow(2).sum(1)\n",
    "    target_tensor = torch.where(temp_tensor < radius_sq, 1, 0)\n",
    "    return random_tensor, target_tensor"
   ]
  },
  {
   "cell_type": "code",
   "execution_count": 11,
   "metadata": {},
   "outputs": [],
   "source": [
    "n = 1000\n",
    "center = 0.5\n",
    "radius = 1 / (2 * math.pi)\n",
    "\n",
    "train_data, train_target = generate_data(n, center, radius)\n",
    "test_data, test_target = generate_data(n, center, radius)"
   ]
  }
 ],
 "metadata": {
  "kernelspec": {
   "display_name": "Python 3",
   "language": "python",
   "name": "python3"
  },
  "language_info": {
   "codemirror_mode": {
    "name": "ipython",
    "version": 3
   },
   "file_extension": ".py",
   "mimetype": "text/x-python",
   "name": "python",
   "nbconvert_exporter": "python",
   "pygments_lexer": "ipython3",
   "version": "3.8.5"
  }
 },
 "nbformat": 4,
 "nbformat_minor": 4
}
