{
 "cells": [
  {
   "cell_type": "code",
   "execution_count": 4,
   "metadata": {},
   "outputs": [],
   "source": [
    "import torch\n",
    "from models import *\n",
    "from torch import nn\n",
    "from torch import optim\n",
    "import time\n",
    "\n",
    "mini_batch_size = 100\n",
    "nb_epochs = 25\n",
    "\n",
    "def train_model(model, train_input, train_target, train_classes, mini_batch_size, aux_loss=False, opt=\"SGD\", loss_func=\"CrossEntropy\"):\n",
    "    # Select loss function\n",
    "    if (loss_func == \"CrossEntropy\"):\n",
    "        criterion = nn.CrossEntropyLoss()\n",
    "\n",
    "    # Select optimizer\n",
    "    if (opt == \"SGD\"):\n",
    "        optimizer = optim.SGD(model.parameters(), lr = 1e-1)\n",
    "    if (opt == \"Adam\"):\n",
    "        optimizer = optim.Adam(model.parameters(), lr = 0.015)\n",
    "        \n",
    "    log_losses = []\n",
    "\n",
    "    for e in range(nb_epochs):\n",
    "        # We do this with mini-batches\n",
    "        mean_losses = 0\n",
    "        for b in range(0, train_input.size(0), mini_batch_size):\n",
    "\n",
    "            # if we want auxiliary loss\n",
    "            if aux_loss:\n",
    "                img1, img2, biggest = model(train_input.narrow(0, b, mini_batch_size))\n",
    "\n",
    "                loss1 = criterion(img1, train_classes.narrow(0, b, mini_batch_size).narrow(1,0,1).view(-1))\n",
    "                loss2 = criterion(img2, train_classes.narrow(0, b, mini_batch_size).narrow(1,1,1).view(-1))\n",
    "                loss3 = criterion(biggest, train_target.narrow(0, b, mini_batch_size))\n",
    "\n",
    "                #add loss1 and loss2 as auxiliary losses\n",
    "                loss = loss1 + loss2 + loss3\n",
    "                mean_losses += loss.mean().item()\n",
    "            else:\n",
    "                output = model(train_input.narrow(0, b, mini_batch_size))\n",
    "                loss = criterion(output, train_target.narrow(0, b, mini_batch_size))\n",
    "                mean_losses += loss.mean().item()\n",
    "\n",
    "            model.zero_grad()\n",
    "            loss.backward()\n",
    "            optimizer.step()\n",
    "            \n",
    "        log_losses.append(mean_losses)\n",
    "        \n",
    "    return log_losses"
   ]
  },
  {
   "cell_type": "code",
   "execution_count": 2,
   "metadata": {},
   "outputs": [],
   "source": [
    "from utils import generate_pair_sets\n",
    "\n",
    "mini_batch_size = 100\n",
    "nb_epochs = 25\n",
    "\n",
    "def compute_nb_errors(model, input, target, mini_batch_size, with_auxiliary_loss):\n",
    "    count = 0\n",
    "    for b in range(0, train_input.size(0), mini_batch_size):\n",
    "        if (with_auxiliary_loss == False) :\n",
    "            output = model(input.narrow(0, b, mini_batch_size))\n",
    "        else :\n",
    "            _, _, output = model(input.narrow(0, b, mini_batch_size))\n",
    "\n",
    "        _, predicted_classes = output.max(1)\n",
    "        for k in range(mini_batch_size):\n",
    "            if target[b + k] != predicted_classes[k]:\n",
    "                count = count + 1\n",
    "    return count\n",
    "\n",
    "train_input, train_target, train_classes, test_input, \\\n",
    "test_target, test_classes = generate_pair_sets(1000)"
   ]
  },
  {
   "cell_type": "code",
   "execution_count": 5,
   "metadata": {},
   "outputs": [
    {
     "name": "stderr",
     "output_type": "stream",
     "text": [
      "C:\\Users\\omidk\\anaconda3\\lib\\site-packages\\torch\\autograd\\__init__.py:130: UserWarning: CUDA initialization: Found no NVIDIA driver on your system. Please check that you have an NVIDIA GPU and installed a driver from http://www.nvidia.com/Download/index.aspx (Triggered internally at  ..\\c10\\cuda\\CUDAFunctions.cpp:100.)\n",
      "  Variable._execution_engine.run_backward(\n"
     ]
    },
    {
     "name": "stdout",
     "output_type": "stream",
     "text": [
      "training time: 19.320571899414062\n",
      "iteration: 0 nb errors: 83\n"
     ]
    },
    {
     "ename": "KeyboardInterrupt",
     "evalue": "",
     "output_type": "error",
     "traceback": [
      "\u001b[1;31m---------------------------------------------------------------------------\u001b[0m",
      "\u001b[1;31mKeyboardInterrupt\u001b[0m                         Traceback (most recent call last)",
      "\u001b[1;32m<ipython-input-5-15e7a826b9a9>\u001b[0m in \u001b[0;36m<module>\u001b[1;34m\u001b[0m\n\u001b[0;32m      3\u001b[0m     \u001b[0mmodel\u001b[0m \u001b[1;33m=\u001b[0m \u001b[0mSIAMESE_CNN_AUX\u001b[0m\u001b[1;33m(\u001b[0m\u001b[0mact\u001b[0m \u001b[1;33m=\u001b[0m \u001b[1;34m\"leaky\"\u001b[0m\u001b[1;33m)\u001b[0m\u001b[1;33m\u001b[0m\u001b[1;33m\u001b[0m\u001b[0m\n\u001b[0;32m      4\u001b[0m     \u001b[0mstart_time\u001b[0m \u001b[1;33m=\u001b[0m \u001b[0mtime\u001b[0m\u001b[1;33m.\u001b[0m\u001b[0mtime\u001b[0m\u001b[1;33m(\u001b[0m\u001b[1;33m)\u001b[0m\u001b[1;33m\u001b[0m\u001b[1;33m\u001b[0m\u001b[0m\n\u001b[1;32m----> 5\u001b[1;33m     \u001b[0mtrain_model\u001b[0m\u001b[1;33m(\u001b[0m\u001b[0mmodel\u001b[0m\u001b[1;33m,\u001b[0m \u001b[0mtrain_input\u001b[0m\u001b[1;33m,\u001b[0m \u001b[0mtrain_target\u001b[0m\u001b[1;33m,\u001b[0m \u001b[0mtrain_classes\u001b[0m\u001b[1;33m,\u001b[0m \u001b[0mmini_batch_size\u001b[0m\u001b[1;33m,\u001b[0m \u001b[0maux_loss\u001b[0m\u001b[1;33m,\u001b[0m \u001b[0mopt\u001b[0m \u001b[1;33m=\u001b[0m \u001b[1;34m\"Adam\"\u001b[0m\u001b[1;33m)\u001b[0m\u001b[1;33m\u001b[0m\u001b[1;33m\u001b[0m\u001b[0m\n\u001b[0m\u001b[0;32m      6\u001b[0m     \u001b[0mprint\u001b[0m\u001b[1;33m(\u001b[0m\u001b[1;34m\"training time: \"\u001b[0m \u001b[1;33m+\u001b[0m \u001b[0mstr\u001b[0m\u001b[1;33m(\u001b[0m\u001b[0mtime\u001b[0m\u001b[1;33m.\u001b[0m\u001b[0mtime\u001b[0m\u001b[1;33m(\u001b[0m\u001b[1;33m)\u001b[0m \u001b[1;33m-\u001b[0m \u001b[0mstart_time\u001b[0m\u001b[1;33m)\u001b[0m\u001b[1;33m)\u001b[0m\u001b[1;33m\u001b[0m\u001b[1;33m\u001b[0m\u001b[0m\n\u001b[0;32m      7\u001b[0m     \u001b[0mn\u001b[0m \u001b[1;33m=\u001b[0m \u001b[0mcompute_nb_errors\u001b[0m\u001b[1;33m(\u001b[0m\u001b[0mmodel\u001b[0m\u001b[1;33m,\u001b[0m \u001b[0mtest_input\u001b[0m\u001b[1;33m,\u001b[0m \u001b[0mtest_target\u001b[0m\u001b[1;33m,\u001b[0m \u001b[0mmini_batch_size\u001b[0m\u001b[1;33m,\u001b[0m \u001b[0maux_loss\u001b[0m\u001b[1;33m)\u001b[0m\u001b[1;33m\u001b[0m\u001b[1;33m\u001b[0m\u001b[0m\n",
      "\u001b[1;32m<ipython-input-4-daebfd18f377>\u001b[0m in \u001b[0;36mtrain_model\u001b[1;34m(model, train_input, train_target, train_classes, mini_batch_size, aux_loss, opt, loss_func)\u001b[0m\n\u001b[0;32m     44\u001b[0m             \u001b[0mmodel\u001b[0m\u001b[1;33m.\u001b[0m\u001b[0mzero_grad\u001b[0m\u001b[1;33m(\u001b[0m\u001b[1;33m)\u001b[0m\u001b[1;33m\u001b[0m\u001b[1;33m\u001b[0m\u001b[0m\n\u001b[0;32m     45\u001b[0m             \u001b[0mloss\u001b[0m\u001b[1;33m.\u001b[0m\u001b[0mbackward\u001b[0m\u001b[1;33m(\u001b[0m\u001b[1;33m)\u001b[0m\u001b[1;33m\u001b[0m\u001b[1;33m\u001b[0m\u001b[0m\n\u001b[1;32m---> 46\u001b[1;33m             \u001b[0moptimizer\u001b[0m\u001b[1;33m.\u001b[0m\u001b[0mstep\u001b[0m\u001b[1;33m(\u001b[0m\u001b[1;33m)\u001b[0m\u001b[1;33m\u001b[0m\u001b[1;33m\u001b[0m\u001b[0m\n\u001b[0m\u001b[0;32m     47\u001b[0m \u001b[1;33m\u001b[0m\u001b[0m\n\u001b[0;32m     48\u001b[0m         \u001b[0mlog_losses\u001b[0m\u001b[1;33m.\u001b[0m\u001b[0mappend\u001b[0m\u001b[1;33m(\u001b[0m\u001b[0mmean_losses\u001b[0m\u001b[1;33m)\u001b[0m\u001b[1;33m\u001b[0m\u001b[1;33m\u001b[0m\u001b[0m\n",
      "\u001b[1;32m~\\anaconda3\\lib\\site-packages\\torch\\autograd\\grad_mode.py\u001b[0m in \u001b[0;36mdecorate_context\u001b[1;34m(*args, **kwargs)\u001b[0m\n\u001b[0;32m     24\u001b[0m         \u001b[1;32mdef\u001b[0m \u001b[0mdecorate_context\u001b[0m\u001b[1;33m(\u001b[0m\u001b[1;33m*\u001b[0m\u001b[0margs\u001b[0m\u001b[1;33m,\u001b[0m \u001b[1;33m**\u001b[0m\u001b[0mkwargs\u001b[0m\u001b[1;33m)\u001b[0m\u001b[1;33m:\u001b[0m\u001b[1;33m\u001b[0m\u001b[1;33m\u001b[0m\u001b[0m\n\u001b[0;32m     25\u001b[0m             \u001b[1;32mwith\u001b[0m \u001b[0mself\u001b[0m\u001b[1;33m.\u001b[0m\u001b[0m__class__\u001b[0m\u001b[1;33m(\u001b[0m\u001b[1;33m)\u001b[0m\u001b[1;33m:\u001b[0m\u001b[1;33m\u001b[0m\u001b[1;33m\u001b[0m\u001b[0m\n\u001b[1;32m---> 26\u001b[1;33m                 \u001b[1;32mreturn\u001b[0m \u001b[0mfunc\u001b[0m\u001b[1;33m(\u001b[0m\u001b[1;33m*\u001b[0m\u001b[0margs\u001b[0m\u001b[1;33m,\u001b[0m \u001b[1;33m**\u001b[0m\u001b[0mkwargs\u001b[0m\u001b[1;33m)\u001b[0m\u001b[1;33m\u001b[0m\u001b[1;33m\u001b[0m\u001b[0m\n\u001b[0m\u001b[0;32m     27\u001b[0m         \u001b[1;32mreturn\u001b[0m \u001b[0mcast\u001b[0m\u001b[1;33m(\u001b[0m\u001b[0mF\u001b[0m\u001b[1;33m,\u001b[0m \u001b[0mdecorate_context\u001b[0m\u001b[1;33m)\u001b[0m\u001b[1;33m\u001b[0m\u001b[1;33m\u001b[0m\u001b[0m\n\u001b[0;32m     28\u001b[0m \u001b[1;33m\u001b[0m\u001b[0m\n",
      "\u001b[1;32m~\\anaconda3\\lib\\site-packages\\torch\\optim\\adam.py\u001b[0m in \u001b[0;36mstep\u001b[1;34m(self, closure)\u001b[0m\n\u001b[0;32m    106\u001b[0m \u001b[1;33m\u001b[0m\u001b[0m\n\u001b[0;32m    107\u001b[0m             \u001b[0mbeta1\u001b[0m\u001b[1;33m,\u001b[0m \u001b[0mbeta2\u001b[0m \u001b[1;33m=\u001b[0m \u001b[0mgroup\u001b[0m\u001b[1;33m[\u001b[0m\u001b[1;34m'betas'\u001b[0m\u001b[1;33m]\u001b[0m\u001b[1;33m\u001b[0m\u001b[1;33m\u001b[0m\u001b[0m\n\u001b[1;32m--> 108\u001b[1;33m             F.adam(params_with_grad,\n\u001b[0m\u001b[0;32m    109\u001b[0m                    \u001b[0mgrads\u001b[0m\u001b[1;33m,\u001b[0m\u001b[1;33m\u001b[0m\u001b[1;33m\u001b[0m\u001b[0m\n\u001b[0;32m    110\u001b[0m                    \u001b[0mexp_avgs\u001b[0m\u001b[1;33m,\u001b[0m\u001b[1;33m\u001b[0m\u001b[1;33m\u001b[0m\u001b[0m\n",
      "\u001b[1;32m~\\anaconda3\\lib\\site-packages\\torch\\optim\\functional.py\u001b[0m in \u001b[0;36madam\u001b[1;34m(params, grads, exp_avgs, exp_avg_sqs, max_exp_avg_sqs, state_steps, amsgrad, beta1, beta2, lr, weight_decay, eps)\u001b[0m\n\u001b[0;32m     92\u001b[0m             \u001b[0mdenom\u001b[0m \u001b[1;33m=\u001b[0m \u001b[1;33m(\u001b[0m\u001b[0mmax_exp_avg_sq\u001b[0m\u001b[1;33m.\u001b[0m\u001b[0msqrt\u001b[0m\u001b[1;33m(\u001b[0m\u001b[1;33m)\u001b[0m \u001b[1;33m/\u001b[0m \u001b[0mmath\u001b[0m\u001b[1;33m.\u001b[0m\u001b[0msqrt\u001b[0m\u001b[1;33m(\u001b[0m\u001b[0mbias_correction2\u001b[0m\u001b[1;33m)\u001b[0m\u001b[1;33m)\u001b[0m\u001b[1;33m.\u001b[0m\u001b[0madd_\u001b[0m\u001b[1;33m(\u001b[0m\u001b[0meps\u001b[0m\u001b[1;33m)\u001b[0m\u001b[1;33m\u001b[0m\u001b[1;33m\u001b[0m\u001b[0m\n\u001b[0;32m     93\u001b[0m         \u001b[1;32melse\u001b[0m\u001b[1;33m:\u001b[0m\u001b[1;33m\u001b[0m\u001b[1;33m\u001b[0m\u001b[0m\n\u001b[1;32m---> 94\u001b[1;33m             \u001b[0mdenom\u001b[0m \u001b[1;33m=\u001b[0m \u001b[1;33m(\u001b[0m\u001b[0mexp_avg_sq\u001b[0m\u001b[1;33m.\u001b[0m\u001b[0msqrt\u001b[0m\u001b[1;33m(\u001b[0m\u001b[1;33m)\u001b[0m \u001b[1;33m/\u001b[0m \u001b[0mmath\u001b[0m\u001b[1;33m.\u001b[0m\u001b[0msqrt\u001b[0m\u001b[1;33m(\u001b[0m\u001b[0mbias_correction2\u001b[0m\u001b[1;33m)\u001b[0m\u001b[1;33m)\u001b[0m\u001b[1;33m.\u001b[0m\u001b[0madd_\u001b[0m\u001b[1;33m(\u001b[0m\u001b[0meps\u001b[0m\u001b[1;33m)\u001b[0m\u001b[1;33m\u001b[0m\u001b[1;33m\u001b[0m\u001b[0m\n\u001b[0m\u001b[0;32m     95\u001b[0m \u001b[1;33m\u001b[0m\u001b[0m\n\u001b[0;32m     96\u001b[0m         \u001b[0mstep_size\u001b[0m \u001b[1;33m=\u001b[0m \u001b[0mlr\u001b[0m \u001b[1;33m/\u001b[0m \u001b[0mbias_correction1\u001b[0m\u001b[1;33m\u001b[0m\u001b[1;33m\u001b[0m\u001b[0m\n",
      "\u001b[1;31mKeyboardInterrupt\u001b[0m: "
     ]
    }
   ],
   "source": [
    "for i in range(10):\n",
    "    aux_loss = True\n",
    "    model = SIAMESE_CNN_AUX(act = \"leaky\")\n",
    "    start_time = time.time()\n",
    "    train_model(model, train_input, train_target, train_classes, mini_batch_size, aux_loss, opt = \"Adam\")\n",
    "    print(\"training time: \" + str(time.time() - start_time))\n",
    "    n = compute_nb_errors(model, test_input, test_target, mini_batch_size, aux_loss)\n",
    "    print(\"iteration: \"+ str(i) + \" nb errors: \" + str(n)) "
   ]
  },
  {
   "cell_type": "code",
   "execution_count": 16,
   "metadata": {},
   "outputs": [],
   "source": [
    "import copy\n",
    "\n",
    "def run_model(model, aux_loss, opt, nbr_runs):\n",
    "    losses = []\n",
    "    \n",
    "    for i in range(nbr_runs):\n",
    "        # Generate data at each iteration\n",
    "        train_input, train_target, train_classes, test_input, \\\n",
    "        test_target, test_classes = generate_pair_sets(1000)\n",
    "        \n",
    "        temp_model = copy.deepcopy(model)\n",
    "        start_time = time.time()\n",
    "        log_losses = train_model(temp_model, train_input, train_target, train_classes, mini_batch_size, aux_loss, opt=opt)\n",
    "        print(\"Training time: \" + str(time.time() - start_time))\n",
    "        n = compute_nb_errors(temp_model, test_input, test_target, mini_batch_size, aux_loss)\n",
    "        print(\"Iteration: \"+ str(i + 1) + \", Test errors: \" + str(n) + \"Test error rate: \" + str((n * 100 / n)) + \"%\")\n",
    "        losses.append(log_losses)\n",
    "    return losses"
   ]
  },
  {
   "cell_type": "code",
   "execution_count": 22,
   "metadata": {},
   "outputs": [],
   "source": [
    "def plot_losses(list_losses, labels):\n",
    "    for i in range(len(list_losses)):\n",
    "        plt.plot(list_losses[i], label=labels[i])\n",
    "    plt.legend()\n",
    "    plt.xlabel(\"Epochs\")\n",
    "    plt.ylabel(\"Loss\")"
   ]
  },
  {
   "cell_type": "code",
   "execution_count": 18,
   "metadata": {},
   "outputs": [
    {
     "name": "stdout",
     "output_type": "stream",
     "text": [
      "Training time: 17.723853588104248\n",
      "Iteration: 1, Test errors: 100Test error rate: 100.0%\n",
      "Training time: 13.78872561454773\n",
      "Iteration: 2, Test errors: 121Test error rate: 100.0%\n",
      "Training time: 14.362809181213379\n",
      "Iteration: 3, Test errors: 102Test error rate: 100.0%\n",
      "Training time: 14.378765344619751\n",
      "Iteration: 4, Test errors: 121Test error rate: 100.0%\n",
      "Training time: 14.74277114868164\n",
      "Iteration: 5, Test errors: 102Test error rate: 100.0%\n",
      "Training time: 11.794493675231934\n",
      "Iteration: 6, Test errors: 110Test error rate: 100.0%\n",
      "Training time: 9.136948585510254\n",
      "Iteration: 7, Test errors: 98Test error rate: 100.0%\n",
      "Training time: 7.519395589828491\n",
      "Iteration: 8, Test errors: 122Test error rate: 100.0%\n",
      "Training time: 9.12106966972351\n",
      "Iteration: 9, Test errors: 122Test error rate: 100.0%\n",
      "Training time: 7.976792097091675\n",
      "Iteration: 10, Test errors: 91Test error rate: 100.0%\n"
     ]
    }
   ],
   "source": [
    "# DEFINE MODELS TO TEST\n",
    "\n",
    "model = SIAMESE_CNN_AUX(act = \"leaky\")\n",
    "losses = run_model(model, aux_loss=True, opt=\"SGD\", nbr_runs=10)"
   ]
  },
  {
   "cell_type": "code",
   "execution_count": 19,
   "metadata": {},
   "outputs": [
    {
     "name": "stderr",
     "output_type": "stream",
     "text": [
      "No handles with labels found to put in legend.\n"
     ]
    },
    {
     "data": {
      "image/png": "[encoded data removed]",
      "text/plain": [
       "<Figure size 432x288 with 1 Axes>"
      ]
     },
     "metadata": {
      "needs_background": "light"
     },
     "output_type": "display_data"
    }
   ],
   "source": [
    "import matplotlib.pyplot as plt\n",
    "list_losses = losses\n",
    "list_labels = [\"ReLU\", \"Tanh\"]\n",
    "plot_losses(list_losses)\n"
   ]
  },
  {
   "cell_type": "code",
   "execution_count": null,
   "metadata": {},
   "outputs": [],
   "source": [
    "# Generate training and test data\n",
    "train_input, train_target, train_classes, test_input, \\\n",
    "test_target, test_classes = generate_pair_sets(1000)"
   ]
  },
  {
   "cell_type": "code",
   "execution_count": 20,
   "metadata": {},
   "outputs": [
    {
     "name": "stdout",
     "output_type": "stream",
     "text": [
      "74\n",
      "59\n",
      "84\n",
      "108\n",
      "106\n",
      "160\n"
     ]
    }
   ],
   "source": [
    "losses = []\n",
    "# =======================================\n",
    "model = SIAMESE_CNN_AUX(act = \"leaky\")\n",
    "log_losses = train_model(model, train_input, train_target, train_classes, mini_batch_size, aux_loss, opt=\"Adam\")\n",
    "n = compute_nb_errors(model, test_input, test_target, mini_batch_size, aux_loss)\n",
    "losses.append(log_losses)\n",
    "print(n)\n",
    "# =======================================\n",
    "model = SIAMESE_CNN_AUX(act = \"relu\")\n",
    "log_losses = train_model(model, train_input, train_target, train_classes, mini_batch_size, aux_loss, opt=\"Adam\")\n",
    "n = compute_nb_errors(model, test_input, test_target, mini_batch_size, aux_loss)\n",
    "losses.append(log_losses)\n",
    "print(n)\n",
    "# =======================================\n",
    "model = SIAMESE_CNN_AUX(act = \"sigmoid\")\n",
    "log_losses = train_model(model, train_input, train_target, train_classes, mini_batch_size, aux_loss, opt=\"Adam\")\n",
    "n = compute_nb_errors(model, test_input, test_target, mini_batch_size, aux_loss)\n",
    "losses.append(log_losses)\n",
    "print(n)\n",
    "# =======================================\n",
    "model = SIAMESE_CNN_AUX(act = \"leaky\")\n",
    "log_losses = train_model(model, train_input, train_target, train_classes, mini_batch_size, aux_loss, opt=\"SGD\")\n",
    "n = compute_nb_errors(model, test_input, test_target, mini_batch_size, aux_loss)\n",
    "losses.append(log_losses)\n",
    "print(n)\n",
    "# =======================================\n",
    "model = SIAMESE_CNN_AUX(act = \"relu\")\n",
    "log_losses = train_model(model, train_input, train_target, train_classes, mini_batch_size, aux_loss, opt=\"SGD\")\n",
    "n = compute_nb_errors(model, test_input, test_target, mini_batch_size, aux_loss)\n",
    "losses.append(log_losses)\n",
    "print(n)\n",
    "# =======================================\n",
    "model = SIAMESE_CNN_AUX(act = \"sigmoid\")\n",
    "log_losses = train_model(model, train_input, train_target, train_classes, mini_batch_size, aux_loss, opt=\"SGD\")\n",
    "n = compute_nb_errors(model, test_input, test_target, mini_batch_size, aux_loss)\n",
    "losses.append(log_losses)\n",
    "print(n)\n",
    "# ======================================="
   ]
  },
  {
   "cell_type": "code",
   "execution_count": null,
   "metadata": {},
   "outputs": [],
   "source": [
    "# =======================================\n",
    "model = BasicNN()\n",
    "log_losses = train_model(model, train_input, train_target, train_classes, mini_batch_size, aux_loss, opt=\"SGD\")\n",
    "n = compute_nb_errors(model, test_input, test_target, mini_batch_size, aux_loss)\n",
    "losses.append(log_losses)\n",
    "print(n)\n",
    "# =======================================\n",
    "model = CNN(act = \"relu\")\n",
    "log_losses = train_model(model, train_input, train_target, train_classes, mini_batch_size, aux_loss, opt=\"SGD\")\n",
    "n = compute_nb_errors(model, test_input, test_target, mini_batch_size, aux_loss)\n",
    "losses.append(log_losses)\n",
    "print(n)\n",
    "# =======================================\n",
    "model = CNN_AUX(act = \"relu\")\n",
    "log_losses = train_model(model, train_input, train_target, train_classes, mini_batch_size, aux_loss, opt=\"SGD\")\n",
    "n = compute_nb_errors(model, test_input, test_target, mini_batch_size, aux_loss)\n",
    "losses.append(log_losses)\n",
    "print(n)\n",
    "# ======================================="
   ]
  },
  {
   "cell_type": "code",
   "execution_count": 24,
   "metadata": {},
   "outputs": [
    {
     "data": {
      "image/png": "[encoded data removed]",
      "text/plain": [
       "<Figure size 432x288 with 1 Axes>"
      ]
     },
     "metadata": {
      "needs_background": "light"
     },
     "output_type": "display_data"
    }
   ],
   "source": [
    "list_losses = losses\n",
    "list_labels = [\"Siamese CNN -Leaky-Adam\", \"Siamese CNN -ReLU-Adam\", \"Siamese CNN-Sigmoid-Adam\", \n",
    "               \"Siamese CNN -Leaky-SGD\", \"Siamese CNN -ReLU-SGD\", \"Siamese CNN-Sigmoid-SGD\",\n",
    "               \"FNN + BN\", \"CNN -\"]\n",
    "plot_losses(list_losses, list_labels)"
   ]
  }
 ],
 "metadata": {
  "kernelspec": {
   "display_name": "Python 3",
   "language": "python",
   "name": "python3"
  },
  "language_info": {
   "codemirror_mode": {
    "name": "ipython",
    "version": 3
   },
   "file_extension": ".py",
   "mimetype": "text/x-python",
   "name": "python",
   "nbconvert_exporter": "python",
   "pygments_lexer": "ipython3",
   "version": "3.8.5"
  }
 },
 "nbformat": 4,
 "nbformat_minor": 4
}
